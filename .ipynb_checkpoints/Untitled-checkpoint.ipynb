{
 "cells": [
  {
   "cell_type": "markdown",
   "id": "5603885d-1f67-45e8-82fa-95c0396f2caa",
   "metadata": {},
   "source": [
    "Project 1 - MATH2504 - 2025\n",
    "\n",
    "Author: Benjamin Nicholson, s4697411\n",
    "\n",
    "[Open GitHub Repo](https://github.com/bennicko/Benjamin-Nicholson-2504-2025-PROJECT1)\n",
    "\n",
    "This project is largely incomplete, makes for easy marking\n",
    "\n",
    "\n",
    "\n"
   ]
  },
  {
   "cell_type": "code",
   "execution_count": 6,
   "id": "c3d0f022-e16a-4dd3-bbd1-2c788308712f",
   "metadata": {},
   "outputs": [
    {
     "name": "stderr",
     "output_type": "stream",
     "text": [
      "\u001b[32m\u001b[1m  Activating\u001b[22m\u001b[39m project at `C:\\Users\\Studying\\Desktop\\MATH2504\\Project 1 v2\\Benjamin-Nicholson-2504-2025-PROJECT1`\n"
     ]
    },
    {
     "name": "stdout",
     "output_type": "stream",
     "text": [
      "Task 1.2: Compute f + g, f * h, & g * h\n",
      "f + g = 2x^4 + 2x^3 - 6x + 3\n",
      "f * h = 26x^7 + 52x^6 - 33x^5 - 4x^4 - 41x^3 + 24x^2\n",
      "g * h = 26x^8 - 46x^6 - 55x^5 + 27x^4 + 23x^3 + 33x^2 - 24x\n",
      "Task 1.3: Compute derivative(f * g) and show it is equal to what is expected when utilizing product rule\n",
      "derivative(f * g) = 28x^6 + 48x^5 - 70x^4 - 88x^3 + 18x^2 + 42x - 9\n",
      "derivative(f) * g + f * derivative(g) = 28x^6 + 48x^5 - 70x^4 - 88x^3 + 18x^2 + 42x - 9\n",
      "Task 1.4: compute (f * h) ÷ h modulo 5, 17 and 101, and confirm using mod (in polynomial_dense.jl) that f modulo 5, 17, and 101 is returned.\n",
      "f * h ÷ h mod 5 = 2x^3 + 4x^2 + 2x\n",
      "fmod5 = 2x^3 + 4x^2 + 2x\n",
      "fmod5 == mod5q = true\n",
      "f * h ÷ h mod 17 = 2x^3 + 4x^2 + 14x\n",
      "fmod17 = 2x^3 + 4x^2 + 14x\n",
      "fmod101 = 2x^3 + 4x^2 + 98x\n",
      "f * h ÷ h mod 101 = 2x^3 + 4x^2 + 98x\n",
      "fmod101 = 2x^3 + 4x^2 + 98x\n",
      "Task 1.5: compute gcd_mod_p(f*h, g*h, p) for p equal to 5, 11 and 13.\n",
      "for p = 5, gcd_mod_p(f*h, g*h, 5) = 4x^4 + 4x^2 + x\n",
      "for p = 11, gcd_mod_p(f*h, g*h, 11) = 5x^4 + 2x^2 + 2x\n",
      "for p = 13, gcd_mod_p(f*h, g*h, 13) = 9x^3 + 10x^2 + 9x\n"
     ]
    }
   ],
   "source": [
    "#example script task 1\n",
    "\n",
    "using Pkg\n",
    "Pkg.activate(\".\")\n",
    "include(\"poly_factorization_project.jl\")\n",
    "\n",
    "#initialise polynomials\n",
    "x = x_poly(PolynomialDense{Int,Int})\n",
    "f = 2x^3 + 4x^2 - 3x\n",
    "g = 2x^4 - 4x^2 - 3x + 3\n",
    "h = 3x^2 + 13x^4 - 8x\n",
    "\n",
    "println(\"Task 1.2: Compute f + g, f * h, & g * h\")\n",
    "@show f+g \n",
    "@show f*h\n",
    "@show g*h\n",
    "\n",
    "println(\"Task 1.3: Compute derivative(f * g) and show it is equal to what is expected when utilizing product rule\")\n",
    "@show derivative(f*g)\n",
    "@show derivative(f)*g + f*derivative(g)\n",
    "\n",
    "println(\"Task 1.4: compute (f * h) ÷ h modulo 5, 17 and 101, and confirm using mod (in polynomial_dense.jl) that f modulo 5, 17, and 101 is returned.\")\n",
    "mod5q, mod5r = div_rem_mod_p(f*h,h,5)\n",
    "mod17q, mod17r = div_rem_mod_p(f*h,h,17)\n",
    "mod101q, mod101r = div_rem_mod_p(f*h,h,101)\n",
    "fmod5, fmod17, fmod101 = mod(f,5), mod(f,17), mod(f,101)\n",
    "\n",
    "\n",
    "println(\"f * h ÷ h mod 5 = \", mod5q)\n",
    "println(\"fmod5 = \", fmod5)\n",
    "@show fmod5 == mod5q\n",
    "\n",
    "println(\"f * h ÷ h mod 17 = \", mod17q)\n",
    "println(\"fmod17 = \", fmod17)\n",
    "println(\"fmod101 = \", fmod101)\n",
    "\n",
    "\n",
    "println(\"f * h ÷ h mod 101 = \", mod101q)\n",
    "println(\"fmod101 = \", fmod101)\n",
    "\n",
    "\n",
    "\n",
    "println(\"Task 1.5: compute gcd_mod_p(f*h, g*h, p) for p equal to 5, 11 and 13.\")\n",
    "p = [5, 11, 13]\n",
    "for i in p\n",
    "    println(\"for p = \", i, \", gcd_mod_p(f*h, g*h, \",i,\") = \", gcd_mod_p(f*h, g*h, i))\n",
    "end"
   ]
  },
  {
   "cell_type": "code",
   "execution_count": 19,
   "id": "714ad6e9-aab3-4fab-ae53-e3ecd3b71f4c",
   "metadata": {},
   "outputs": [
    {
     "name": "stderr",
     "output_type": "stream",
     "text": [
      "\u001b[32m\u001b[1m  Activating\u001b[22m\u001b[39m project at `C:\\Users\\Studying\\Desktop\\MATH2504\\Project 1 v2\\Benjamin-Nicholson-2504-2025-PROJECT1`\n"
     ]
    },
    {
     "name": "stdout",
     "output_type": "stream",
     "text": [
      "p2intint + p1intint = -7446744073709551616x^2\n",
      "p1bigintint + p2bigintint = 11000000000000000000x^2\n"
     ]
    },
    {
     "data": {
      "text/plain": [
       "11000000000000000000x^2"
      ]
     },
     "execution_count": 19,
     "metadata": {},
     "output_type": "execute_result"
    }
   ],
   "source": [
    "#example script task 2\n",
    "\n",
    "using Pkg\n",
    "Pkg.activate(\".\")\n",
    "\n",
    "include(\"poly_factorization_project.jl\")\n",
    "\n",
    "\n",
    "x1 = x_poly(PolynomialDense{BigInt,Int})\n",
    "x2 = x_poly(PolynomialDense{Int,Int})\n",
    "\n",
    "p1intint = (10*10^18)*x2^2\n",
    "p2intint = (10*10^17)*x2^2\n",
    "\n",
    "p1bigintint = big(10)*10^18*x1^2\n",
    "p2bigintint = big(10)*10^17*x1^2\n",
    "\n",
    "@show p2intint+p1intint\n",
    "@show p1bigintint+p2bigintint"
   ]
  },
  {
   "cell_type": "markdown",
   "id": "8a6a1893-4d03-4635-aeaa-f349aad27b80",
   "metadata": {},
   "source": [
    "Task 2.9\n",
    "I am unable to run the tests in the Jupyter notebook, this is the output from VSCode\n",
    "  \n",
    "  Activating project at `C:\\Users\\Studying\\Desktop\\MATH2504\\Project 1 v2\\Benjamin-Nicholson-2504-2025-PROJECT1`\n",
    "---BEGIN INTEGER UNIT TESTS---\n",
    "test_euclid_ints - PASSED\n",
    "test_ext_euclid_ints - PASSED\n",
    "---END INTEGER UNIT TESTS---\n",
    "\n",
    "---BEGIN HEAP UNIT TESTS---\n",
    "test_heap - popall non-destructive vector constructor - PASSED\n",
    "test_heap - PASSED\n",
    "---END HEAP UNIT TESTS---\n",
    "\n",
    "---BEGIN POLYNOMIAL UNIT TESTS---\n",
    "\n",
    "Int, Int64} - PASSED\n",
    "prod_derivative_test_poly for PolynomialDense{BigInt, Int64} - PASSED\n",
    "ext_euclid_test_poly for PolynomialDense{BigInt, Int64} - PASSED\n",
    "division_test_poly for PolynomialDense{BigInt, Int64} - PASSED\n",
    "\n",
    "---END POLYNOMIAL UNIT TESTS---\n",
    "\n",
    "---BEGIN FACTORIZATION UNIT TESTS---\n",
    "\n",
    "Type of `Polynomial``: PolynomialDense{Int64, Int64}\n",
    "\n",
    "doing prime = 5         ..........\n",
    "doing prime = 7         ..........\n",
    "doing prime = 11        ..........\n",
    "\n",
    "factor_mod_p_test_poly for PolynomialDense{Int64, Int64} - PASSED\n",
    "\n",
    "Type of `Polynomial``: PolynomialDense{BigInt, Int64}\n",
    "\n",
    "doing prime = 5         ..........\n",
    "doing prime = 7         ..........\n",
    "doing prime = 11        ..........\n",
    "\n",
    "factor_mod_p_test_poly for PolynomialDense{BigInt, Int64} - PASSED\n",
    "\n",
    "---END FACTORISATION UNIT TESTS---"
   ]
  },
  {
   "cell_type": "code",
   "execution_count": null,
   "id": "10eaa792-be93-46d4-8884-2926acc40594",
   "metadata": {},
   "outputs": [],
   "source": []
  }
 ],
 "metadata": {
  "kernelspec": {
   "display_name": "Julia 1.11.6",
   "language": "julia",
   "name": "julia-1.11"
  },
  "language_info": {
   "file_extension": ".jl",
   "mimetype": "application/julia",
   "name": "julia",
   "version": "1.11.6"
  }
 },
 "nbformat": 4,
 "nbformat_minor": 5
}
